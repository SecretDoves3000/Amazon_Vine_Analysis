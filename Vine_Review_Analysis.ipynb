{
 "cells": [
  {
   "cell_type": "code",
   "execution_count": 1,
   "id": "32887279",
   "metadata": {},
   "outputs": [],
   "source": [
    "import pandas as pd"
   ]
  },
  {
   "cell_type": "code",
   "execution_count": 15,
   "id": "93b232c2",
   "metadata": {},
   "outputs": [],
   "source": [
    "#read the vine program data\n",
    "vine_df = pd.read_csv('vine_table.csv')"
   ]
  },
  {
   "cell_type": "code",
   "execution_count": 6,
   "id": "b0b2aaef",
   "metadata": {},
   "outputs": [],
   "source": [
    "#remove the reviews with too few votes\n",
    "signf_df = vine_df[vine_df['total_votes'] > 20]"
   ]
  },
  {
   "cell_type": "code",
   "execution_count": 8,
   "id": "a3c9cbb8",
   "metadata": {},
   "outputs": [],
   "source": [
    "#filter by reviews which were voted to be helpful by a majority of voters\n",
    "helpful_df = signf_df[signf_df['helpful_votes']/signf_df['total_votes'] >= 0.5]"
   ]
  },
  {
   "cell_type": "code",
   "execution_count": 16,
   "id": "6f6b9713",
   "metadata": {},
   "outputs": [],
   "source": [
    "#split the helpful reviews by those which were paid (vine) vs unpaid\n",
    "helpful_vine_df = helpful_df[helpful_df['vine'] == 'Y']\n",
    "helpful_nonvine_df = helpful_df[helpful_df['vine'] == 'N']"
   ]
  },
  {
   "cell_type": "code",
   "execution_count": 24,
   "id": "6c91edf1",
   "metadata": {},
   "outputs": [
    {
     "data": {
      "text/plain": [
       "59"
      ]
     },
     "execution_count": 24,
     "metadata": {},
     "output_type": "execute_result"
    }
   ],
   "source": [
    "#total number of majority helpful vine reviews\n",
    "hvr = len(helpful_vine_df)\n",
    "hvr"
   ]
  },
  {
   "cell_type": "code",
   "execution_count": 25,
   "id": "37ed6872",
   "metadata": {},
   "outputs": [
    {
     "data": {
      "text/plain": [
       "34"
      ]
     },
     "execution_count": 25,
     "metadata": {},
     "output_type": "execute_result"
    }
   ],
   "source": [
    "#total number of five star helpful vine reviews\n",
    "hvr_fives = len(helpful_vine_df[helpful_vine_df['star_rating'] == 5.0])\n",
    "hvr_fives"
   ]
  },
  {
   "cell_type": "code",
   "execution_count": 27,
   "id": "d41f0614",
   "metadata": {},
   "outputs": [
    {
     "data": {
      "text/plain": [
       "57.6271186440678"
      ]
     },
     "execution_count": 27,
     "metadata": {},
     "output_type": "execute_result"
    }
   ],
   "source": [
    "#percentage of five star helpful vine reviews\n",
    "hvr_fives/hvr * 100"
   ]
  },
  {
   "cell_type": "code",
   "execution_count": 28,
   "id": "5e7db5c5",
   "metadata": {},
   "outputs": [
    {
     "data": {
      "text/plain": [
       "13480"
      ]
     },
     "execution_count": 28,
     "metadata": {},
     "output_type": "execute_result"
    }
   ],
   "source": [
    "#total number of majority helpful non-vine reviews\n",
    "hnvr = len(helpful_nonvine_df)\n",
    "hnvr"
   ]
  },
  {
   "cell_type": "code",
   "execution_count": 29,
   "id": "193e9ada",
   "metadata": {},
   "outputs": [
    {
     "data": {
      "text/plain": [
       "7678"
      ]
     },
     "execution_count": 29,
     "metadata": {},
     "output_type": "execute_result"
    }
   ],
   "source": [
    "#total number of five star helpful vine reviews\n",
    "hnvr_fives = len(helpful_nonvine_df[helpful_nonvine_df['star_rating'] == 5.0])\n",
    "hnvr_fives"
   ]
  },
  {
   "cell_type": "code",
   "execution_count": 30,
   "id": "c528a909",
   "metadata": {},
   "outputs": [
    {
     "data": {
      "text/plain": [
       "56.95845697329377"
      ]
     },
     "execution_count": 30,
     "metadata": {},
     "output_type": "execute_result"
    }
   ],
   "source": [
    "#percentage of five star helpful vine reviews\n",
    "hnvr_fives/hnvr * 100"
   ]
  },
  {
   "cell_type": "code",
   "execution_count": null,
   "id": "2985efc5",
   "metadata": {},
   "outputs": [],
   "source": []
  }
 ],
 "metadata": {
  "kernelspec": {
   "display_name": "Python 3 (ipykernel)",
   "language": "python",
   "name": "python3"
  },
  "language_info": {
   "codemirror_mode": {
    "name": "ipython",
    "version": 3
   },
   "file_extension": ".py",
   "mimetype": "text/x-python",
   "name": "python",
   "nbconvert_exporter": "python",
   "pygments_lexer": "ipython3",
   "version": "3.9.13"
  }
 },
 "nbformat": 4,
 "nbformat_minor": 5
}
